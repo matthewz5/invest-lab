{
 "cells": [
  {
   "cell_type": "markdown",
   "id": "f238cb57",
   "metadata": {},
   "source": [
    "Libs"
   ]
  },
  {
   "cell_type": "code",
   "execution_count": null,
   "id": "258b2247",
   "metadata": {},
   "outputs": [],
   "source": [
    "import yfinance as yf\n",
    "import pandas as pd\n",
    "import matplotlib.pyplot as plt"
   ]
  },
  {
   "cell_type": "markdown",
   "id": "cc837e6c",
   "metadata": {},
   "source": [
    "Functions"
   ]
  },
  {
   "cell_type": "code",
   "execution_count": null,
   "id": "7b575cc9",
   "metadata": {},
   "outputs": [],
   "source": [
    "def calcs_operations(df, tk):\n",
    "\n",
    "    df = df[df['ticker'] == tk] # select only the ticker (tk)\n",
    "    df = df[['date', 'quantity', 'price']] # drop ticker column\n",
    "    df = df.sort_values(by=\"date\") # sort by date as ascending\n",
    "    df['amount'] = df['quantity'].cumsum() # cumulative sum of quantity\n",
    "    df['value'] = df['price'] * df['quantity'] # value of each operation\n",
    "    df['balance'] = df['value'].cumsum() # cumulative sum of value\n",
    "    df['mean_price'] = df['balance'] / df['amount'] # mean price of the investment\n",
    "\n",
    "    return df"
   ]
  },
  {
   "cell_type": "code",
   "execution_count": null,
   "id": "e899c16a",
   "metadata": {},
   "outputs": [],
   "source": [
    "def data_yf(tk, df):\n",
    "\n",
    "    start = df['date'].iloc[0] # date of the first operation\n",
    "    end = pd.to_datetime(\"today\").normalize() # date of today\n",
    "    ndays = (end - start).days\n",
    "\n",
    "    data = yf.Ticker(tk)\n",
    "    data = data.history(period=f\"{ndays}d\", start=start, end=end)\n",
    "    \n",
    "    return data"
   ]
  },
  {
   "cell_type": "code",
   "execution_count": null,
   "id": "e8110402",
   "metadata": {},
   "outputs": [],
   "source": [
    "def calcs_return(data):\n",
    "\n",
    "    # Calculate adjustment factor\n",
    "    data['Adjustment Factor'] = (1 + data['Dividends'] / data['Close']).cumprod()\n",
    "\n",
    "    # Calculate Adjusted Close\n",
    "    data['Adj Close'] = data['Close'] / data['Adjustment Factor']\n",
    "\n",
    "    # Calculate returns\n",
    "    data['Auto_pct'] = data['Adj Close'].pct_change()\n",
    "    \n",
    "    # Calculate cumulative returns\n",
    "    data['Auto_cum'] = (1 + data['Auto_pct']).cumprod()\n",
    "\n",
    "    return data"
   ]
  },
  {
   "cell_type": "code",
   "execution_count": null,
   "id": "08f32304",
   "metadata": {},
   "outputs": [],
   "source": [
    "def plot_operations(df, tk, data):\n",
    "\n",
    "    plt.figure(figsize=(10, 5))\n",
    "\n",
    "    # Plot the ETF value data\n",
    "    data['Close'].plot(title=f'ETF - {tk}', \n",
    "                            color='blue', \n",
    "                            label='Close Price - USD')\n",
    "\n",
    "    # Plot the range of prices\n",
    "    plt.fill_between(data.index, \n",
    "                    data['High'], \n",
    "                    data['Low'], \n",
    "                    color='blue', \n",
    "                    alpha=0.25, \n",
    "                    label='High-Low Range')\n",
    "\n",
    "    # Plot the operations\n",
    "    colors = ['red' if q < 0 else 'green' for q in df['quantity']]\n",
    "    plt.scatter(df['date'], \n",
    "                df['price'], \n",
    "                s=abs(df['quantity']) * 1000, \n",
    "                color=colors, \n",
    "                label='Operations (Size by Quantity)', \n",
    "                alpha=0.75)\n",
    "\n",
    "    # Plot the mean price\n",
    "    plt.axhline(y=df['mean_price'].iloc[-1], \n",
    "                color='red',\n",
    "                linestyle='--', \n",
    "                label='Most Recent Mean Price')\n",
    "\n",
    "    plt.xlabel('Date')\n",
    "    plt.ylabel('Price')\n",
    "    plt.legend()\n",
    "    plt.grid()\n",
    "    plt.show()"
   ]
  },
  {
   "cell_type": "code",
   "execution_count": null,
   "id": "81288dd5",
   "metadata": {},
   "outputs": [],
   "source": [
    "def plot_return(data, tk, data_sp500, data_ibov):\n",
    "\n",
    "    plt.figure(figsize=(10, 5))\n",
    "\n",
    "    plt.plot(data.index, \n",
    "             data['Auto_cum']*100, \n",
    "             linestyle='-', \n",
    "             color='blue', \n",
    "             label=tk)\n",
    "\n",
    "    plt.plot(data_sp500.index, \n",
    "             data_sp500['Auto_cum']*100, \n",
    "             linestyle='--', \n",
    "             color='red',\n",
    "             label='S&P 500')\n",
    "\n",
    "    plt.plot(data_ibov.index, \n",
    "             data_ibov['Auto_cum']*100, \n",
    "             linestyle='--', \n",
    "             color='green',\n",
    "             label='IBOV')\n",
    "    \n",
    "    plt.title('Cumulative Daily Percentage Change in ETF vs INDEX Price')\n",
    "    plt.xlabel('Date')\n",
    "    plt.ylabel('Performance (%)')\n",
    "    plt.grid(True)\n",
    "    plt.legend()\n",
    "    plt.tight_layout()\n",
    "    plt.show()"
   ]
  },
  {
   "cell_type": "markdown",
   "id": "927fb33f",
   "metadata": {},
   "source": [
    "Application"
   ]
  },
  {
   "cell_type": "code",
   "execution_count": null,
   "id": "e4f1d9cd",
   "metadata": {},
   "outputs": [],
   "source": [
    "TICKER = 'QQQM'"
   ]
  },
  {
   "cell_type": "code",
   "execution_count": null,
   "id": "acf93bcd",
   "metadata": {},
   "outputs": [],
   "source": [
    "operations_data = pd.read_excel(\"operations_data.xlsx\")\n",
    "df_calcs_operations = calcs_operations(operations_data, TICKER)\n",
    "display(df_calcs_operations)"
   ]
  },
  {
   "cell_type": "code",
   "execution_count": null,
   "id": "0c68b06d",
   "metadata": {},
   "outputs": [],
   "source": [
    "df_yf = data_yf(TICKER, df_calcs_operations)\n",
    "df_return = calcs_return(df_yf)\n",
    "display(df_return)"
   ]
  },
  {
   "cell_type": "code",
   "execution_count": null,
   "id": "8004f789",
   "metadata": {},
   "outputs": [],
   "source": [
    "df_sp500_yf = calcs_return(data_yf('^GSPC', df_calcs_operations))\n",
    "df_ibov_yf = calcs_return(data_yf('^BVSP', df_calcs_operations))"
   ]
  },
  {
   "cell_type": "code",
   "execution_count": null,
   "id": "c815dd49",
   "metadata": {},
   "outputs": [],
   "source": [
    "plot_operations(df_calcs_operations, TICKER, df_yf)"
   ]
  },
  {
   "cell_type": "code",
   "execution_count": null,
   "id": "896be779",
   "metadata": {},
   "outputs": [],
   "source": [
    "plot_return(df_return, TICKER, df_sp500_yf, df_ibov_yf)"
   ]
  }
 ],
 "metadata": {
  "kernelspec": {
   "display_name": "Python 3",
   "language": "python",
   "name": "python3"
  },
  "language_info": {
   "codemirror_mode": {
    "name": "ipython",
    "version": 3
   },
   "file_extension": ".py",
   "mimetype": "text/x-python",
   "name": "python",
   "nbconvert_exporter": "python",
   "pygments_lexer": "ipython3",
   "version": "3.12.5"
  }
 },
 "nbformat": 4,
 "nbformat_minor": 5
}
